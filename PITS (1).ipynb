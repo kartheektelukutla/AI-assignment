{
  "cells": [
    {
      "cell_type": "code",
      "execution_count": 3,
      "metadata": {
        "colab": {
          "base_uri": "https://localhost:8080/"
        },
        "id": "KlQdk17cTpbn",
        "outputId": "b5b62157-1e8c-48e9-85ad-4c3afb550ca9"
      },
      "outputs": [
        {
          "output_type": "stream",
          "name": "stdout",
          "text": [
            "Requirement already satisfied: owlready2 in /usr/local/lib/python3.10/dist-packages (0.47)\n",
            "Requirement already satisfied: PyQt5 in /usr/local/lib/python3.10/dist-packages (5.15.11)\n",
            "Requirement already satisfied: PyQt5-sip<13,>=12.15 in /usr/local/lib/python3.10/dist-packages (from PyQt5) (12.16.0)\n",
            "Requirement already satisfied: PyQt5-Qt5<5.16.0,>=5.15.2 in /usr/local/lib/python3.10/dist-packages (from PyQt5) (5.15.15)\n"
          ]
        }
      ],
      "source": [
        "pip install owlready2 PyQt5\n"
      ]
    },
    {
      "cell_type": "code",
      "source": [
        "pip install PyQt5\n"
      ],
      "metadata": {
        "colab": {
          "base_uri": "https://localhost:8080/"
        },
        "id": "AbTILd_8MvF8",
        "outputId": "296cf95c-a90c-4ca8-81fb-d065add19b3e"
      },
      "execution_count": 3,
      "outputs": [
        {
          "output_type": "stream",
          "name": "stdout",
          "text": [
            "Requirement already satisfied: PyQt5 in /usr/local/lib/python3.10/dist-packages (5.15.11)\n",
            "Requirement already satisfied: PyQt5-sip<13,>=12.15 in /usr/local/lib/python3.10/dist-packages (from PyQt5) (12.16.0)\n",
            "Requirement already satisfied: PyQt5-Qt5<5.16.0,>=5.15.2 in /usr/local/lib/python3.10/dist-packages (from PyQt5) (5.15.15)\n"
          ]
        }
      ]
    },
    {
      "cell_type": "code",
      "execution_count": 5,
      "metadata": {
        "id": "lKQp1jsrHjpL"
      },
      "outputs": [],
      "source": [
        "from owlready2 import *\n",
        "from PyQt5.QtWidgets import QApplication, QLabel, QLineEdit, QPushButton, QVBoxLayout, QWidget, QMessageBox\n"
      ]
    },
    {
      "cell_type": "code",
      "source": [
        "from PyQt5.QtWidgets import QApplication, QLabel, QLineEdit, QPushButton, QVBoxLayout, QWidget, QMessageBox\n",
        "# Ensure QWidget is correctly defined\n",
        "class ITSApp(QWidget):\n",
        "    def __init__(self):\n",
        "        super().__init__()\n",
        "        self.setWindowTitle(\"Personalized ITS\")\n",
        "        self.setGeometry(100, 100, 400, 200)\n",
        "\n",
        "        # Load Ontology\n",
        "        self.onto = get_ontology(\"path_to_your_ontology.owl\").load()"
      ],
      "metadata": {
        "id": "jsChCZ0nM9TL"
      },
      "execution_count": 5,
      "outputs": []
    },
    {
      "cell_type": "code",
      "source": [
        "class ITSApp(QWidget):\n",
        "    def __init__(self):\n",
        "        super().__init__()\n",
        "        self.setWindowTitle(\"Personalized ITS\")\n",
        "        self.setGeometry(100, 100, 400, 200)\n",
        "\n",
        "        # Load Ontology\n",
        "        self.onto = get_ontology(\"path_to_your_ontology.owl\").load()\n",
        "\n",
        "        # UI Elements\n",
        "        self.layout = QVBoxLayout()\n",
        "\n",
        "        # Login Section\n",
        "        self.username_label = QLabel(\"Enter Username:\")\n",
        "        self.username_input = QLineEdit()\n",
        "        self.login_button = QPushButton(\"Login\")\n",
        "        self.login_button.clicked.connect(self.login)\n",
        "\n",
        "        # Add Widgets\n",
        "        self.layout.addWidget(self.username_label)\n",
        "        self.layout.addWidget(self.username_input)\n",
        "        self.layout.addWidget(self.login_button)\n",
        "\n",
        "        self.setLayout(self.layout)\n"
      ],
      "metadata": {
        "id": "gCZxAqsHMiS2"
      },
      "execution_count": 6,
      "outputs": []
    },
    {
      "cell_type": "code",
      "source": [
        "def login(self):\n",
        "        username = self.username_input.text()\n",
        "\n",
        "        # Search user in ontology\n",
        "        user = None\n",
        "        for person in self.onto.User.instances():\n",
        "            if person.name == username:\n",
        "                user = person\n",
        "                break\n",
        "\n",
        "        if user:\n",
        "            QMessageBox.information(self, \"Welcome\", f\"Welcome back, {username}!\")\n",
        "            self.start_learning(user)\n",
        "        else:\n",
        "            QMessageBox.warning(self, \"Error\", \"User not found!\")\n"
      ],
      "metadata": {
        "id": "-RgAYYsGNaXt"
      },
      "execution_count": 7,
      "outputs": []
    },
    {
      "cell_type": "code",
      "source": [
        "def start_learning(self, user):\n",
        "        self.layout = QVBoxLayout()\n",
        "\n",
        "        # Fetch learning path based on skill level\n",
        "        skill_level = user.hasSkillLevel[0]  # Assuming one skill level per user\n",
        "        concepts = [concept.name for concept in self.onto.Concept.instances() if concept.hasSkillLevel == skill_level]\n",
        "\n",
        "        # Show personalized lessons\n",
        "        lessons_label = QLabel(f\"Your personalized lessons (Skill: {skill_level}):\")\n",
        "        lessons_list = QLabel(\"\\n\".join(concepts))\n",
        "\n",
        "        # Add to Layout\n",
        "        self.layout.addWidget(lessons_label)\n",
        "        self.layout.addWidget(lessons_list)\n",
        "\n",
        "        # Add Return Button\n",
        "        self.return_button = QPushButton(\"Logout\")\n",
        "        self.return_button.clicked.connect(self.logout)\n",
        "        self.layout.addWidget(self.return_button)\n",
        "\n",
        "        self.setLayout(self.layout)"
      ],
      "metadata": {
        "id": "vmEOUgiYNftu"
      },
      "execution_count": 8,
      "outputs": []
    },
    {
      "cell_type": "code",
      "source": [
        "def logout(self):\n",
        "        # Return to login screen\n",
        "        self.layout = QVBoxLayout()\n",
        "        self.layout.addWidget(self.username_label)\n",
        "        self.layout.addWidget(self.username_input)\n",
        "        self.layout.addWidget(self.login_button)\n",
        "        self.setLayout(self.layout)"
      ],
      "metadata": {
        "id": "DfsqWUcYNcn5"
      },
      "execution_count": 9,
      "outputs": []
    },
    {
      "cell_type": "code",
      "source": [
        "# Run Application\n",
        "if __name__ == \"__main__\":\n",
        "    from PyQt5.QtWidgets import QApplication # Import QApplication here\n",
        "    app = QApplication([])\n",
        "    window = ITSApp()\n",
        "    window.show()\n",
        "    app.exec()"
      ],
      "metadata": {
        "id": "DsVO8xwoORpx"
      },
      "execution_count": null,
      "outputs": []
    },
    {
      "cell_type": "code",
      "source": [
        "from PyQt5.QtWidgets import QApplication, QLabel, QWidget\n",
        "\n",
        "app = QApplication([])\n",
        "window = QWidget()\n",
        "label = QLabel(\"Hello, PyQt5!\", parent=window)\n",
        "label.move(100, 100)\n",
        "window.setGeometry(100, 100, 400, 200)\n",
        "window.setWindowTitle(\"Test PyQt5\")\n",
        "window.show()\n",
        "app.exec()"
      ],
      "metadata": {
        "id": "eo7yz1c-NlVP"
      },
      "execution_count": null,
      "outputs": []
    },
    {
      "cell_type": "code",
      "source": [
        "model = '/kaggle/input/llama-2/pytorch/7b-chat-hf/'\n",
        "\n",
        "tokenizer_7bChat = AutoTokenizer.from_pretrained(model)\n",
        "pipeline = transformers.pipeline(\n",
        "    \"text-generation\",\n",
        "    model=model,\n",
        "    torch_dtype=torch.float16,\n",
        "    device_map=\"auto\",\n",
        ")"
      ],
      "metadata": {
        "id": "ywQAkle3Oa6k"
      },
      "execution_count": null,
      "outputs": []
    },
    {
      "cell_type": "code",
      "execution_count": 2,
      "metadata": {
        "id": "QinalQXNYyAb"
      },
      "outputs": [],
      "source": [
        "def run_Llma2(tokenizer, prompt):\n",
        "    sequences = pipeline(\n",
        "            prompt,\n",
        "           do_sample=True,\n",
        "            top_k=10,\n",
        "            num_return_sequences=1,\n",
        "            eos_token_id=tokenizer.eos_token_id,\n",
        "            max_length=1000,\n",
        "        )\n",
        "\n",
        "    return sequences[0]['generated_text'].replace(prompt, \"\")"
      ]
    },
    {
      "cell_type": "code",
      "execution_count": null,
      "metadata": {
        "id": "lEzxsS_VZIt8"
      },
      "outputs": [],
      "source": [
        "p = input('Enter your Question: ') #Explain staff training and certification in SQA\n",
        "ans = run_Llma2(tokenizer_7bChat, p)\n",
        "print(ans)"
      ]
    }
  ],
  "metadata": {
    "colab": {
      "provenance": []
    },
    "kernelspec": {
      "display_name": "Python 3",
      "name": "python3"
    },
    "language_info": {
      "name": "python"
    }
  },
  "nbformat": 4,
  "nbformat_minor": 0
}